{
 "cells": [
  {
   "cell_type": "code",
   "execution_count": 1,
   "id": "11b9620a-20f9-45b1-a483-29f9fbd72ff7",
   "metadata": {
    "execution": {
     "iopub.execute_input": "2024-02-18T14:14:12.129655Z",
     "iopub.status.busy": "2024-02-18T14:14:12.128682Z",
     "iopub.status.idle": "2024-02-18T14:14:14.316595Z",
     "shell.execute_reply": "2024-02-18T14:14:14.315928Z",
     "shell.execute_reply.started": "2024-02-18T14:14:12.129582Z"
    }
   },
   "outputs": [],
   "source": [
    "import os\n",
    "\n",
    "import numpy as np\n",
    "import torch\n",
    "from torch.utils.data import DataLoader\n",
    "from torchvision.datasets import ImageFolder\n",
    "from torchvision import transforms\n",
    "\n",
    "import src.dataset.utils as dutils\n",
    "import src.modelling.utils as mutils\n",
    "from src.modelling.resnet_model import ResNet\n",
    "\n",
    "%load_ext autoreload\n",
    "%autoreload 2"
   ]
  },
  {
   "cell_type": "code",
   "execution_count": 2,
   "id": "17254978-47dd-4953-a264-c33948f94674",
   "metadata": {
    "execution": {
     "iopub.execute_input": "2024-02-18T14:14:14.317710Z",
     "iopub.status.busy": "2024-02-18T14:14:14.317396Z",
     "iopub.status.idle": "2024-02-18T14:14:14.335595Z",
     "shell.execute_reply": "2024-02-18T14:14:14.334904Z",
     "shell.execute_reply.started": "2024-02-18T14:14:14.317685Z"
    }
   },
   "outputs": [],
   "source": [
    "DATA_DIR = \"./data/\"\n",
    "BATCH_SIZE = 10\n",
    "EPOCHS = 8\n",
    "MAX_LR = 0.01\n",
    "GRAD_CLIP = 0.1\n",
    "WEIGHT_DECAY = 1e-4"
   ]
  },
  {
   "cell_type": "code",
   "execution_count": 3,
   "id": "5284c643-c3ab-42c8-975f-f1b654aceef4",
   "metadata": {
    "execution": {
     "iopub.execute_input": "2024-02-18T14:14:14.337009Z",
     "iopub.status.busy": "2024-02-18T14:14:14.336626Z",
     "iopub.status.idle": "2024-02-18T14:14:14.374903Z",
     "shell.execute_reply": "2024-02-18T14:14:14.374300Z",
     "shell.execute_reply.started": "2024-02-18T14:14:14.336981Z"
    }
   },
   "outputs": [],
   "source": [
    "image_transformer = dutils.get_default_image_transformer()\n",
    "\n",
    "train_loader = DataLoader(\n",
    "    dataset=ImageFolder(os.path.join(DATA_DIR, \"train\"), transform=image_transformer),\n",
    "    batch_size=BATCH_SIZE,\n",
    "    shuffle=True,\n",
    "    pin_memory=True,\n",
    "    num_workers=4,\n",
    ")\n",
    "\n",
    "valid_loader = DataLoader(\n",
    "    dataset=ImageFolder(os.path.join(DATA_DIR, \"valid\"), transform=image_transformer),\n",
    "    batch_size=BATCH_SIZE,\n",
    "    shuffle=True,\n",
    "    pin_memory=True,\n",
    "    num_workers=4,\n",
    ")\n",
    "\n",
    "test_loader = DataLoader(\n",
    "    dataset=ImageFolder(os.path.join(DATA_DIR, \"test\"), transform=image_transformer),\n",
    "    batch_size=BATCH_SIZE,\n",
    "    pin_memory=True,\n",
    "    num_workers=4,\n",
    ")"
   ]
  },
  {
   "cell_type": "code",
   "execution_count": 7,
   "id": "f9df3433-dc36-4671-a9b7-6e0c6dfe3a77",
   "metadata": {
    "execution": {
     "iopub.execute_input": "2024-02-18T14:34:54.102851Z",
     "iopub.status.busy": "2024-02-18T14:34:54.101843Z",
     "iopub.status.idle": "2024-02-18T14:55:42.480065Z",
     "shell.execute_reply": "2024-02-18T14:55:42.478645Z",
     "shell.execute_reply.started": "2024-02-18T14:34:54.102768Z"
    }
   },
   "outputs": [
    {
     "name": "stderr",
     "output_type": "stream",
     "text": [
      "100%|████████████████████████████████████████████████████████████████████████████| 395/395 [00:48<00:00,  8.11it/s]\n"
     ]
    },
    {
     "name": "stdout",
     "output_type": "stream",
     "text": [
      "Epoch [0] | lr: 0.00166 | train loss: 0.7669 | valid loss: 1.5862 | accuracy: 0.6047\n"
     ]
    },
    {
     "name": "stderr",
     "output_type": "stream",
     "text": [
      "100%|████████████████████████████████████████████████████████████████████████████| 395/395 [00:48<00:00,  8.10it/s]\n"
     ]
    },
    {
     "name": "stdout",
     "output_type": "stream",
     "text": [
      "Epoch [1] | lr: 0.00691 | train loss: 0.9203 | valid loss: 0.4600 | accuracy: 0.8141\n"
     ]
    },
    {
     "name": "stderr",
     "output_type": "stream",
     "text": [
      "100%|████████████████████████████████████████████████████████████████████████████| 395/395 [00:48<00:00,  8.10it/s]\n"
     ]
    },
    {
     "name": "stdout",
     "output_type": "stream",
     "text": [
      "Epoch [2] | lr: 0.00986 | train loss: 0.7118 | valid loss: 2.7829 | accuracy: 0.5000\n"
     ]
    },
    {
     "name": "stderr",
     "output_type": "stream",
     "text": [
      "100%|████████████████████████████████████████████████████████████████████████████| 395/395 [00:48<00:00,  8.13it/s]\n"
     ]
    },
    {
     "name": "stdout",
     "output_type": "stream",
     "text": [
      "Epoch [3] | lr: 0.00902 | train loss: 0.6257 | valid loss: 2.3812 | accuracy: 0.6882\n"
     ]
    },
    {
     "name": "stderr",
     "output_type": "stream",
     "text": [
      "100%|████████████████████████████████████████████████████████████████████████████| 395/395 [00:48<00:00,  8.10it/s]\n"
     ]
    },
    {
     "name": "stdout",
     "output_type": "stream",
     "text": [
      "Epoch [4] | lr: 0.00689 | train loss: 0.5472 | valid loss: 0.6169 | accuracy: 0.7871\n"
     ]
    },
    {
     "name": "stderr",
     "output_type": "stream",
     "text": [
      "100%|████████████████████████████████████████████████████████████████████████████| 395/395 [00:48<00:00,  8.10it/s]\n"
     ]
    },
    {
     "name": "stdout",
     "output_type": "stream",
     "text": [
      "Epoch [5] | lr: 0.00417 | train loss: 0.4594 | valid loss: 0.3115 | accuracy: 0.8800\n"
     ]
    },
    {
     "name": "stderr",
     "output_type": "stream",
     "text": [
      "100%|████████████████████████████████████████████████████████████████████████████| 395/395 [00:48<00:00,  8.10it/s]\n"
     ]
    },
    {
     "name": "stdout",
     "output_type": "stream",
     "text": [
      "Epoch [6] | lr: 0.00171 | train loss: 0.4046 | valid loss: 0.3450 | accuracy: 0.8482\n"
     ]
    },
    {
     "name": "stderr",
     "output_type": "stream",
     "text": [
      "100%|████████████████████████████████████████████████████████████████████████████| 395/395 [00:48<00:00,  8.08it/s]\n"
     ]
    },
    {
     "name": "stdout",
     "output_type": "stream",
     "text": [
      "Epoch [7] | lr: 0.00026 | train loss: 0.3650 | valid loss: 0.2593 | accuracy: 0.9059\n"
     ]
    },
    {
     "name": "stderr",
     "output_type": "stream",
     "text": [
      "100%|██████████████████████████████████████████████████████████████████████████████| 85/85 [00:03<00:00, 24.11it/s]\n"
     ]
    },
    {
     "name": "stdout",
     "output_type": "stream",
     "text": [
      "Accuracy for test set: 0.8887573964497042\n"
     ]
    },
    {
     "name": "stderr",
     "output_type": "stream",
     "text": [
      "100%|████████████████████████████████████████████████████████████████████████████| 395/395 [00:46<00:00,  8.46it/s]\n"
     ]
    },
    {
     "name": "stdout",
     "output_type": "stream",
     "text": [
      "Epoch [0] | lr: 0.00166 | train loss: 0.6713 | valid loss: 0.6581 | accuracy: 0.6824\n"
     ]
    },
    {
     "name": "stderr",
     "output_type": "stream",
     "text": [
      "100%|████████████████████████████████████████████████████████████████████████████| 395/395 [00:46<00:00,  8.47it/s]\n"
     ]
    },
    {
     "name": "stdout",
     "output_type": "stream",
     "text": [
      "Epoch [1] | lr: 0.00691 | train loss: 0.9216 | valid loss: 0.3764 | accuracy: 0.8600\n"
     ]
    },
    {
     "name": "stderr",
     "output_type": "stream",
     "text": [
      "100%|████████████████████████████████████████████████████████████████████████████| 395/395 [00:46<00:00,  8.47it/s]\n"
     ]
    },
    {
     "name": "stdout",
     "output_type": "stream",
     "text": [
      "Epoch [2] | lr: 0.00986 | train loss: 0.7965 | valid loss: 1.2038 | accuracy: 0.7294\n"
     ]
    },
    {
     "name": "stderr",
     "output_type": "stream",
     "text": [
      "100%|████████████████████████████████████████████████████████████████████████████| 395/395 [00:46<00:00,  8.49it/s]\n"
     ]
    },
    {
     "name": "stdout",
     "output_type": "stream",
     "text": [
      "Epoch [3] | lr: 0.00902 | train loss: 0.7108 | valid loss: 0.3771 | accuracy: 0.8118\n"
     ]
    },
    {
     "name": "stderr",
     "output_type": "stream",
     "text": [
      "100%|████████████████████████████████████████████████████████████████████████████| 395/395 [00:46<00:00,  8.47it/s]\n"
     ]
    },
    {
     "name": "stdout",
     "output_type": "stream",
     "text": [
      "Epoch [4] | lr: 0.00689 | train loss: 0.5868 | valid loss: 0.7087 | accuracy: 0.7588\n"
     ]
    },
    {
     "name": "stderr",
     "output_type": "stream",
     "text": [
      "100%|████████████████████████████████████████████████████████████████████████████| 395/395 [00:46<00:00,  8.48it/s]\n"
     ]
    },
    {
     "name": "stdout",
     "output_type": "stream",
     "text": [
      "Epoch [5] | lr: 0.00417 | train loss: 0.4306 | valid loss: 0.7490 | accuracy: 0.7565\n"
     ]
    },
    {
     "name": "stderr",
     "output_type": "stream",
     "text": [
      "100%|████████████████████████████████████████████████████████████████████████████| 395/395 [00:46<00:00,  8.45it/s]\n"
     ]
    },
    {
     "name": "stdout",
     "output_type": "stream",
     "text": [
      "Epoch [6] | lr: 0.00171 | train loss: 0.3501 | valid loss: 0.2235 | accuracy: 0.9259\n"
     ]
    },
    {
     "name": "stderr",
     "output_type": "stream",
     "text": [
      "100%|████████████████████████████████████████████████████████████████████████████| 395/395 [00:46<00:00,  8.48it/s]\n"
     ]
    },
    {
     "name": "stdout",
     "output_type": "stream",
     "text": [
      "Epoch [7] | lr: 0.00026 | train loss: 0.2005 | valid loss: 0.1598 | accuracy: 0.9506\n"
     ]
    },
    {
     "name": "stderr",
     "output_type": "stream",
     "text": [
      "100%|██████████████████████████████████████████████████████████████████████████████| 85/85 [00:03<00:00, 24.31it/s]\n"
     ]
    },
    {
     "name": "stdout",
     "output_type": "stream",
     "text": [
      "Accuracy for test set: 0.9313609467455621\n"
     ]
    },
    {
     "name": "stderr",
     "output_type": "stream",
     "text": [
      "100%|████████████████████████████████████████████████████████████████████████████| 395/395 [00:49<00:00,  8.04it/s]\n"
     ]
    },
    {
     "name": "stdout",
     "output_type": "stream",
     "text": [
      "Epoch [0] | lr: 0.00166 | train loss: 1.4038 | valid loss: 49.1638 | accuracy: 0.4212\n"
     ]
    },
    {
     "name": "stderr",
     "output_type": "stream",
     "text": [
      "100%|████████████████████████████████████████████████████████████████████████████| 395/395 [00:48<00:00,  8.07it/s]\n"
     ]
    },
    {
     "name": "stdout",
     "output_type": "stream",
     "text": [
      "Epoch [1] | lr: 0.00691 | train loss: 1.1238 | valid loss: 1.3546 | accuracy: 0.5165\n"
     ]
    },
    {
     "name": "stderr",
     "output_type": "stream",
     "text": [
      "100%|████████████████████████████████████████████████████████████████████████████| 395/395 [00:48<00:00,  8.09it/s]\n"
     ]
    },
    {
     "name": "stdout",
     "output_type": "stream",
     "text": [
      "Epoch [2] | lr: 0.00986 | train loss: 1.4988 | valid loss: 4.1295 | accuracy: 0.5306\n"
     ]
    },
    {
     "name": "stderr",
     "output_type": "stream",
     "text": [
      "100%|████████████████████████████████████████████████████████████████████████████| 395/395 [00:48<00:00,  8.09it/s]\n"
     ]
    },
    {
     "name": "stdout",
     "output_type": "stream",
     "text": [
      "Epoch [3] | lr: 0.00902 | train loss: 4.3935 | valid loss: 10.2524 | accuracy: 0.5365\n"
     ]
    },
    {
     "name": "stderr",
     "output_type": "stream",
     "text": [
      "100%|████████████████████████████████████████████████████████████████████████████| 395/395 [00:48<00:00,  8.08it/s]\n"
     ]
    },
    {
     "name": "stdout",
     "output_type": "stream",
     "text": [
      "Epoch [4] | lr: 0.00689 | train loss: 2.6576 | valid loss: 0.9122 | accuracy: 0.7588\n"
     ]
    },
    {
     "name": "stderr",
     "output_type": "stream",
     "text": [
      "100%|████████████████████████████████████████████████████████████████████████████| 395/395 [00:48<00:00,  8.07it/s]\n"
     ]
    },
    {
     "name": "stdout",
     "output_type": "stream",
     "text": [
      "Epoch [5] | lr: 0.00417 | train loss: 1.8092 | valid loss: 1.9590 | accuracy: 0.5812\n"
     ]
    },
    {
     "name": "stderr",
     "output_type": "stream",
     "text": [
      "100%|████████████████████████████████████████████████████████████████████████████| 395/395 [00:48<00:00,  8.10it/s]\n"
     ]
    },
    {
     "name": "stdout",
     "output_type": "stream",
     "text": [
      "Epoch [6] | lr: 0.00171 | train loss: 1.1371 | valid loss: 0.4992 | accuracy: 0.7953\n"
     ]
    },
    {
     "name": "stderr",
     "output_type": "stream",
     "text": [
      "100%|████████████████████████████████████████████████████████████████████████████| 395/395 [00:48<00:00,  8.10it/s]\n"
     ]
    },
    {
     "name": "stdout",
     "output_type": "stream",
     "text": [
      "Epoch [7] | lr: 0.00026 | train loss: 0.6268 | valid loss: 0.3783 | accuracy: 0.8671\n"
     ]
    },
    {
     "name": "stderr",
     "output_type": "stream",
     "text": [
      "100%|██████████████████████████████████████████████████████████████████████████████| 85/85 [00:03<00:00, 24.44it/s]\n"
     ]
    },
    {
     "name": "stdout",
     "output_type": "stream",
     "text": [
      "Accuracy for test set: 0.8804733727810651\n"
     ]
    }
   ],
   "source": [
    "from datetime import datetime\n",
    "\n",
    "opts = {\n",
    "    \"Adam\": {\n",
    "        \"object\": torch.optim.Adam,\n",
    "        \"history\": []\n",
    "    },\n",
    "    \"SGD\": {\n",
    "        \"object\": torch.optim.SGD,\n",
    "        \"history\": []\n",
    "    },\n",
    "    \"RMSprop\": {\n",
    "        \"object\": torch.optim.RMSprop,\n",
    "        \"history\": []\n",
    "    },\n",
    "}\n",
    "\n",
    "for opt_name, optimizer in opts.items():\n",
    "    \n",
    "    model = ResNet(in_channels=3, n_classes=4)\n",
    "    opt = optimizer['object'](model.parameters(), lr=MAX_LR, weight_decay=WEIGHT_DECAY)\n",
    "    \n",
    "    opts[opt_name]['history'] = mutils.train_model(\n",
    "        model=model, \n",
    "        epochs=EPOCHS,\n",
    "        train_loader=train_loader,\n",
    "        valid_loader=valid_loader,\n",
    "        optimizer=opt,\n",
    "        max_lr=MAX_LR,\n",
    "        weight_decay=WEIGHT_DECAY,\n",
    "        grad_clip=GRAD_CLIP,\n",
    "    )\n",
    "    \n",
    "    mutils.evaluate_model(model=model, loader=test_loader)\n",
    "    \n",
    "    model_date = datetime.now().strftime(\"%Y-%m-%d-%H:%M:%S\")\n",
    "    model_file = f\"resnet_{opt_name}_{model_date}.pth\"\n",
    "    model = model.to(torch.device(\"cpu\"))\n",
    "    torch.save(model.state_dict(), os.path.join('models', model_file))"
   ]
  },
  {
   "cell_type": "code",
   "execution_count": 11,
   "id": "81930eb3-19d4-4f6b-8a81-d341c71568fd",
   "metadata": {
    "execution": {
     "iopub.execute_input": "2024-02-18T15:00:55.629033Z",
     "iopub.status.busy": "2024-02-18T15:00:55.627468Z",
     "iopub.status.idle": "2024-02-18T15:00:56.178328Z",
     "shell.execute_reply": "2024-02-18T15:00:56.177516Z",
     "shell.execute_reply.started": "2024-02-18T15:00:55.628970Z"
    }
   },
   "outputs": [
    {
     "data": {
      "image/png": "[encoded data removed]",
      "text/plain": [
       "<Figure size 900x700 with 2 Axes>"
      ]
     },
     "metadata": {},
     "output_type": "display_data"
    }
   ],
   "source": [
    "import matplotlib.pyplot as plt\n",
    "\n",
    "fig, axs = plt.subplots(2, 1, figsize=(9, 7), dpi=100, sharex=True)\n",
    "\n",
    "colors = {\n",
    "    'Adam': 'red',\n",
    "    'SGD': 'blue',\n",
    "    'RMSprop': 'green',\n",
    "}\n",
    "\n",
    "for opt_name in ['Adam', 'SGD', 'RMSprop']:\n",
    "    valid_losses = [d['valid_loss'] for d in opts[opt_name]['history']]\n",
    "    valid_accuracy = [d['valid_accuracy'] for d in opts[opt_name]['history']]\n",
    "    axs[0].plot(valid_losses, color=colors[opt_name], label=opt_name)\n",
    "    axs[1].plot(valid_accuracy, color=colors[opt_name], label=opt_name)\n",
    "\n",
    "axs[0].set_ylabel('Loss')\n",
    "axs[0].legend(loc='upper right')\n",
    "axs[0].set_ylim(0, 3)\n",
    "axs[1].set_ylabel('Accuracy')\n",
    "axs[1].set_xlabel('Epoch')\n",
    "\n",
    "fig.suptitle('Validation Set')\n",
    "fig.tight_layout()\n",
    "fig.savefig('./images/learning_curves.png', bbox_inches='tight')"
   ]
  }
 ],
 "metadata": {
  "kernelspec": {
   "display_name": "Python 3 (ipykernel)",
   "language": "python",
   "name": "python3"
  },
  "language_info": {
   "codemirror_mode": {
    "name": "ipython",
    "version": 3
   },
   "file_extension": ".py",
   "mimetype": "text/x-python",
   "name": "python",
   "nbconvert_exporter": "python",
   "pygments_lexer": "ipython3",
   "version": "3.11.2"
  }
 },
 "nbformat": 4,
 "nbformat_minor": 5
}
